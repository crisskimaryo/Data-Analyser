{
 "cells": [
  {
   "cell_type": "code",
   "execution_count": 28,
   "metadata": {
    "collapsed": true
   },
   "outputs": [],
   "source": [
    "import pandas as pd\n",
    "import numpy as np\n",
    "from scipy.stats.distributions import norm"
   ]
  },
  {
   "cell_type": "code",
   "execution_count": 5,
   "metadata": {
    "collapsed": true
   },
   "outputs": [],
   "source": [
    "df = pd.read_csv(\"/Users/vessilli/Desktop/andy/test/data/sunil_2M.csv\")"
   ]
  },
  {
   "cell_type": "code",
   "execution_count": 6,
   "metadata": {
    "collapsed": false
   },
   "outputs": [
    {
     "name": "stdout",
     "output_type": "stream",
     "text": [
      "  ﻿ACTION      COST  CLICKS  Age  BiddingPrice  Children  Toddler  Kids  Teen  \\\n",
      "0          0.000022       0   47          0.02         2        1     0     1   \n",
      "1          0.000836       0   69          0.71         4        2     2     0   \n",
      "2          0.000393       0   32          0.38         3        2     0     1   \n",
      "3          0.001349       0   38          1.72         2        0     1     1   \n",
      "4          0.001815       0   54          1.60         5        2     2     1   \n",
      "\n",
      "   Income  ...   Home Phone Email  SIN  Transaction_dummy  hour  DayofWeek  \\\n",
      "0   81785  ...    XXX   XXX   XXX  XXX                678     0          7   \n",
      "1   14703  ...    XXX   XXX   XXX  XXX                  1    13          7   \n",
      "2   30614  ...    XXX   XXX   XXX  XXX                  6    11          7   \n",
      "3   42652  ...    XXX   XXX   XXX  XXX                  8    11          7   \n",
      "4    2395  ...    XXX   XXX   XXX  XXX                  4     0          7   \n",
      "\n",
      "   DMA    Domain  Zone  \n",
      "0    0  18260302     1  \n",
      "1    0  19083127     1  \n",
      "2    0   1552418     6  \n",
      "3  752    162804     1  \n",
      "4    0     20139     6  \n",
      "\n",
      "[5 rows x 51 columns]\n"
     ]
    }
   ],
   "source": [
    "print df.head()"
   ]
  },
  {
   "cell_type": "code",
   "execution_count": 16,
   "metadata": {
    "collapsed": true
   },
   "outputs": [],
   "source": [
    "df[\"CLICKS\"] = df[\"CLICKS\"].fillna(df[\"CLICKS\"].mean())\n",
    "df[\"COST\"] = df[\"COST\"].fillna(df[\"COST\"].mean())"
   ]
  },
  {
   "cell_type": "code",
   "execution_count": 17,
   "metadata": {
    "collapsed": false
   },
   "outputs": [],
   "source": [
    "clicks = df[\"CLICKS\"].as_matrix()\n",
    "cost = df[\"COST\"].as_matrix()"
   ]
  },
  {
   "cell_type": "code",
   "execution_count": 18,
   "metadata": {
    "collapsed": false
   },
   "outputs": [
    {
     "name": "stdout",
     "output_type": "stream",
     "text": [
      "[ 0.  0.  0. ...,  0.  0.  0.]\n",
      "[  2.20000000e-05   8.36000000e-04   3.92674700e-04 ...,   9.90000000e-05\n",
      "   3.19000000e-04   1.02300000e-03]\n"
     ]
    }
   ],
   "source": [
    "print clicks\n",
    "print cost"
   ]
  },
  {
   "cell_type": "code",
   "execution_count": 19,
   "metadata": {
    "collapsed": false
   },
   "outputs": [],
   "source": [
    "md = cost.mean()-clicks.mean()"
   ]
  },
  {
   "cell_type": "code",
   "execution_count": 22,
   "metadata": {
    "collapsed": false
   },
   "outputs": [],
   "source": [
    "se = np.sqrt(np.var(cost)/len(cost)+np.var(clicks)/len(clicks))"
   ]
  },
  {
   "cell_type": "code",
   "execution_count": 23,
   "metadata": {
    "collapsed": false
   },
   "outputs": [
    {
     "name": "stdout",
     "output_type": "stream",
     "text": [
      "1.8657621274e-05\n"
     ]
    }
   ],
   "source": [
    "print se"
   ]
  },
  {
   "cell_type": "code",
   "execution_count": 24,
   "metadata": {
    "collapsed": true
   },
   "outputs": [],
   "source": [
    "lci,uci = md-2*se,md+2*se"
   ]
  },
  {
   "cell_type": "code",
   "execution_count": 26,
   "metadata": {
    "collapsed": false
   },
   "outputs": [],
   "source": [
    "z = md/se"
   ]
  },
  {
   "cell_type": "code",
   "execution_count": 27,
   "metadata": {
    "collapsed": false
   },
   "outputs": [
    {
     "name": "stdout",
     "output_type": "stream",
     "text": [
      "3.21204143196\n"
     ]
    }
   ],
   "source": [
    "print z"
   ]
  },
  {
   "cell_type": "code",
   "execution_count": 29,
   "metadata": {
    "collapsed": true
   },
   "outputs": [],
   "source": [
    "pvalue = -2*norm.cdf(-np.abs(z))"
   ]
  },
  {
   "cell_type": "code",
   "execution_count": 30,
   "metadata": {
    "collapsed": false
   },
   "outputs": [
    {
     "name": "stdout",
     "output_type": "stream",
     "text": [
      "-0.00131795366687\n"
     ]
    }
   ],
   "source": [
    "print pvalue"
   ]
  },
  {
   "cell_type": "code",
   "execution_count": null,
   "metadata": {
    "collapsed": true
   },
   "outputs": [],
   "source": []
  }
 ],
 "metadata": {
  "kernelspec": {
   "display_name": "Python 2",
   "language": "python",
   "name": "python2"
  },
  "language_info": {
   "codemirror_mode": {
    "name": "ipython",
    "version": 2
   },
   "file_extension": ".py",
   "mimetype": "text/x-python",
   "name": "python",
   "nbconvert_exporter": "python",
   "pygments_lexer": "ipython2",
   "version": "2.7.10"
  }
 },
 "nbformat": 4,
 "nbformat_minor": 0
}
