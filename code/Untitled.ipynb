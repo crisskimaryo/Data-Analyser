{
 "cells": [
  {
   "cell_type": "code",
   "execution_count": 44,
   "metadata": {
    "collapsed": true
   },
   "outputs": [],
   "source": [
    "import pandas as pd\n",
    "import numpy as np\n",
    "from sklearn.ensemble import GradientBoostingClassifier, GradientBoostingRegressor"
   ]
  },
  {
   "cell_type": "code",
   "execution_count": 45,
   "metadata": {
    "collapsed": false
   },
   "outputs": [],
   "source": [
    "df = pd.read_csv(\"/Users/vessilli/Desktop/andy/test/data/sunil_2M.csv\")"
   ]
  },
  {
   "cell_type": "code",
   "execution_count": 46,
   "metadata": {
    "collapsed": false
   },
   "outputs": [
    {
     "data": {
      "text/plain": [
       "0          26\n",
       "1           6\n",
       "2           4\n",
       "3           6\n",
       "4          26\n",
       "5          26\n",
       "6          24\n",
       "7          10\n",
       "8          26\n",
       "9           4\n",
       "10         24\n",
       "11         19\n",
       "12         24\n",
       "13         24\n",
       "14         24\n",
       "15         19\n",
       "16         24\n",
       "17         24\n",
       "18          6\n",
       "19         24\n",
       "20          6\n",
       "21          6\n",
       "22         19\n",
       "23          6\n",
       "24         24\n",
       "25          6\n",
       "26          6\n",
       "27         24\n",
       "28          6\n",
       "29          4\n",
       "           ..\n",
       "2027098     3\n",
       "2027099    26\n",
       "2027100     3\n",
       "2027101     1\n",
       "2027102     6\n",
       "2027103     1\n",
       "2027104    19\n",
       "2027105     1\n",
       "2027106    19\n",
       "2027107    26\n",
       "2027108     6\n",
       "2027109     6\n",
       "2027110    24\n",
       "2027111    24\n",
       "2027112    24\n",
       "2027113    19\n",
       "2027114     2\n",
       "2027115     6\n",
       "2027116    24\n",
       "2027117    19\n",
       "2027118    44\n",
       "2027119     1\n",
       "2027120    24\n",
       "2027121     3\n",
       "2027122    24\n",
       "2027123    24\n",
       "2027124     1\n",
       "2027125     1\n",
       "2027126     6\n",
       "2027127     1\n",
       "Name: Browser, dtype: float64"
      ]
     },
     "execution_count": 46,
     "metadata": {},
     "output_type": "execute_result"
    }
   ],
   "source": [
    "df.head()\n",
    "df.columns\n",
    "df['Browser']"
   ]
  },
  {
   "cell_type": "code",
   "execution_count": 56,
   "metadata": {
    "collapsed": true
   },
   "outputs": [],
   "source": [
    "def stochasticGradienBoosting(xNames,yNames,dff):\n",
    "    names = yNames+xNames\n",
    "    dff = df[names]\n",
    "    \n",
    "    for i in xNames:\n",
    "        if dff[i].dtype=='object':\n",
    "            fillvalue = dff[i].value_counts()\n",
    "            fillvalue = fillvalue.index[0]\n",
    "        else:\n",
    "            fillvalue = np.mean(dff[i])\n",
    "        dff[i] = dff[i].fillna(fillvalue)\n",
    "    for i in yNames:\n",
    "        fillvalue = dff[i].value_counts()\n",
    "        fillvalue = fillvalue.index[0]\n",
    "        dff[i] = dff[i].fillna(fillvalue)\n",
    "    \n",
    "    \n",
    "    \n",
    "    for i in names:\n",
    "        if dff[i].dtype == \"object\":\n",
    "            print \"shit happend\"\n",
    "            dff[i] = pd.DataFrame(data={i: np.unique(df[i],return_inverse=True)[1]})\n",
    "    print dff.head()\n",
    "    \n",
    "    X = np.asfortranarray(dff[xNames], dtype=np.float32)\n",
    "    Y = np.asfortranarray(dff[yNames], dtype=np.float32)\n",
    "    y = Y[:,0]\n",
    "    #est = GradientBoostingRegressor(loss=loss,learning_rate=learning_rate,n_estimators=n_estimators,subsample=subsample,min_samples_split=min_samples_split,min_samples_leaf=min_samples_leaf,min_weight_fraction_leaf=min_weight_fraction_leaf,max_depth=max_depth,random_state=random_state,max_features=max_features,alpha=alpha,verbose=verbose,max_leaf_nodes=max_leaf_nodes,warm_start=warm_start)\n",
    "    est = GradientBoostingRegressor(n_estimators=3000, max_depth=6, learning_rate=0.04,loss='huber', random_state=0)\n",
    "    est.fit(X,y)\n",
    "    a = est.feature_importances_\n",
    "    print a\n",
    "    "
   ]
  },
  {
   "cell_type": "code",
   "execution_count": 57,
   "metadata": {
    "collapsed": true
   },
   "outputs": [],
   "source": [
    "xNames = ['COST','Kids','SIN']\n",
    "yNames = ['CLICKS']"
   ]
  },
  {
   "cell_type": "code",
   "execution_count": null,
   "metadata": {
    "collapsed": false
   },
   "outputs": [
    {
     "name": "stderr",
     "output_type": "stream",
     "text": [
      "/Library/Python/2.7/site-packages/IPython/kernel/__main__.py:11: SettingWithCopyWarning: \n",
      "A value is trying to be set on a copy of a slice from a DataFrame.\n",
      "Try using .loc[row_indexer,col_indexer] = value instead\n",
      "\n",
      "See the the caveats in the documentation: http://pandas.pydata.org/pandas-docs/stable/indexing.html#indexing-view-versus-copy\n",
      "/Library/Python/2.7/site-packages/IPython/kernel/__main__.py:15: SettingWithCopyWarning: \n",
      "A value is trying to be set on a copy of a slice from a DataFrame.\n",
      "Try using .loc[row_indexer,col_indexer] = value instead\n",
      "\n",
      "See the the caveats in the documentation: http://pandas.pydata.org/pandas-docs/stable/indexing.html#indexing-view-versus-copy\n"
     ]
    },
    {
     "name": "stdout",
     "output_type": "stream",
     "text": [
      "shit happend\n",
      "   CLICKS      COST  Kids  SIN\n",
      "0       0  0.000022     0    1\n",
      "1       0  0.000836     2    1\n",
      "2       0  0.000393     0    1\n",
      "3       0  0.001349     1    1\n",
      "4       0  0.001815     2    1"
     ]
    }
   ],
   "source": [
    "stochasticGradienBoosting(xNames,yNames,df)"
   ]
  },
  {
   "cell_type": "code",
   "execution_count": null,
   "metadata": {
    "collapsed": true
   },
   "outputs": [],
   "source": []
  }
 ],
 "metadata": {
  "kernelspec": {
   "display_name": "Python 2",
   "language": "python",
   "name": "python2"
  },
  "language_info": {
   "codemirror_mode": {
    "name": "ipython",
    "version": 2
   },
   "file_extension": ".py",
   "mimetype": "text/x-python",
   "name": "python",
   "nbconvert_exporter": "python",
   "pygments_lexer": "ipython2",
   "version": "2.7.10"
  }
 },
 "nbformat": 4,
 "nbformat_minor": 0
}
