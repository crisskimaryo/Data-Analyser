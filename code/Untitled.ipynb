{
 "cells": [
  {
   "cell_type": "code",
   "execution_count": 27,
   "metadata": {
    "collapsed": true
   },
   "outputs": [],
   "source": [
    "import pandas as pd\n",
    "import statsmodels.api as sm\n",
    "import sklearn.linear_model"
   ]
  },
  {
   "cell_type": "code",
   "execution_count": 7,
   "metadata": {
    "collapsed": false
   },
   "outputs": [
    {
     "name": "stdout",
     "output_type": "stream",
     "text": [
      "Index([u'﻿ACTION', u'COST', u'CLICKS', u'Age', u'BiddingPrice', u'Children', u'Toddler', u'Kids', u'Teen', u'Income', u'Network', u'CreationDate', u'LastContact', u'month_last', u'day_last', u'DayofWeek_last', u'days_btw_create_last', u'days_btw_last_date', u'days_btw_create_date', u'BidTime8Hour', u'Country', u'State', u'City', u'Language', u'Campaign', u'Banner', u'Region', u'AdCategory', u'Browser', u'OS', u'Gender', u'Ethnicity', u'Education', u'RelationshipType', u'Leadstatus', u'LeadSource', u'CrmAction', u'Time', u'IP', u'UserID', u'hourmin', u'Home', u'Phone', u'Email', u'SIN', u'Transaction_dummy', u'hour', u'DayofWeek', u'DMA', u'Domain', u'Zone'], dtype='object')\n"
     ]
    }
   ],
   "source": [
    "df = pd.read_csv(\"/Users/vessilli/Desktop/andy/test/data/sunil_2m.csv\")\n",
    "print df.columns"
   ]
  },
  {
   "cell_type": "code",
   "execution_count": 30,
   "metadata": {
    "collapsed": false
   },
   "outputs": [],
   "source": [
    "def LogisticRegression(x,y):\n",
    "    lst = list(set(y + x))\n",
    "    ddf = df[lst]\n",
    "    for i in x:\n",
    "        if ddf[i].dtype=='object':\n",
    "            fillvalue = ddf[i].value_counts()\n",
    "            fillvalue = fillvalue.index[0]\n",
    "        else:\n",
    "            fillvalue = np.mean(ddf[i])\n",
    "        ddf[i] = ddf[i].fillna(fillvalue)\n",
    "    for i in y:\n",
    "        fillvalue = ddf[i].value_counts()\n",
    "        fillvalue = fillvalue.index[0]\n",
    "        ddf[i] = ddf[i].fillna(fillvalue)\n",
    "    categorical = []\n",
    "    nonCategorical = []\n",
    "    for i in x:\n",
    "        if ddf[i].dtype==\"object\":\n",
    "            categorical.append(i)\n",
    "            print i\n",
    "        else:\n",
    "            print i\n",
    "            nonCategorical.append(i)\n",
    "    data = ddf[y+nonCategorical]\n",
    "    for j in categorical:\n",
    "        #dummy_b = self.get_dummies(ddf,j)\n",
    "        dummy_b = pd.get_dummies(ddf[j],prefix=j)\n",
    "        dummy_columns = dummy_b.columns\n",
    "\n",
    "    cols = list(dummy_columns[1:len(dummy_columns)])\n",
    "    data[cols] = dummy_b[dummy_columns[1:len(dummy_columns)]]\n",
    "    data['intercept'] = 1.0\n",
    "    columns = data.columns\n",
    "    y = columns[0]\n",
    "    x = columns[1:len(columns)]\n",
    "    print data.head()\n",
    "    X = data[x].as_matrix()\n",
    "    Y = data[y].as_matrix()\n",
    "    model = sklearn.linear_model.LogisticRegression()\n",
    "    \n",
    "    print X.shape,Y.shape\n",
    "    model.fit(X,Y)\n",
    "    print data.head()\n",
    "\t#logit = sm.Logit(data[y], data[x])\n",
    "\t#result = logit.fit()"
   ]
  },
  {
   "cell_type": "code",
   "execution_count": 31,
   "metadata": {
    "collapsed": false
   },
   "outputs": [
    {
     "name": "stderr",
     "output_type": "stream",
     "text": [
      "/Library/Python/2.7/site-packages/IPython/kernel/__main__.py:10: SettingWithCopyWarning: \n",
      "A value is trying to be set on a copy of a slice from a DataFrame.\n",
      "Try using .loc[row_indexer,col_indexer] = value instead\n",
      "\n",
      "See the the caveats in the documentation: http://pandas.pydata.org/pandas-docs/stable/indexing.html#indexing-view-versus-copy\n",
      "/Library/Python/2.7/site-packages/IPython/kernel/__main__.py:14: SettingWithCopyWarning: \n",
      "A value is trying to be set on a copy of a slice from a DataFrame.\n",
      "Try using .loc[row_indexer,col_indexer] = value instead\n",
      "\n",
      "See the the caveats in the documentation: http://pandas.pydata.org/pandas-docs/stable/indexing.html#indexing-view-versus-copy\n"
     ]
    },
    {
     "name": "stdout",
     "output_type": "stream",
     "text": [
      "State\n",
      "   CLICKS  State_00  State_01  State_02  State_03  State_04  State_05  \\\n",
      "0       0         0         0         0         0         0         0   \n",
      "1       0         0         0         0         0         0         0   \n",
      "2       0         0         0         0         0         0         0   \n",
      "3       0         0         0         0         0         0         0   \n",
      "4       0         0         0         0         0         0         0   \n",
      "\n",
      "   State_06  State_07  State_08    ...      State_TX  State_UT  State_VA  \\\n",
      "0         0         0         0    ...             0         0         0   \n",
      "1         0         0         0    ...             0         0         0   \n",
      "2         0         0         0    ...             0         0         0   \n",
      "3         0         0         0    ...             0         0         0   \n",
      "4         0         0         0    ...             0         0         0   \n",
      "\n",
      "   State_VT  State_WA  State_WI  State_WV  State_WY  State_YT  intercept  \n",
      "0         0         0         0         0         0         0          1  \n",
      "1         0         0         0         0         0         0          1  \n",
      "2         0         0         0         0         0         0          1  \n",
      "3         0         0         0         0         0         0          1  \n",
      "4         0         0         0         0         0         0          1  \n",
      "\n",
      "[5 rows x 141 columns]\n",
      "(2027128, 140) (2027128,)\n",
      "   CLICKS  State_00  State_01  State_02  State_03  State_04  State_05  \\\n",
      "0       0         0         0         0         0         0         0   \n",
      "1       0         0         0         0         0         0         0   \n",
      "2       0         0         0         0         0         0         0   \n",
      "3       0         0         0         0         0         0         0   \n",
      "4       0         0         0         0         0         0         0   \n",
      "\n",
      "   State_06  State_07  State_08    ...      State_TX  State_UT  State_VA  \\\n",
      "0         0         0         0    ...             0         0         0   \n",
      "1         0         0         0    ...             0         0         0   \n",
      "2         0         0         0    ...             0         0         0   \n",
      "3         0         0         0    ...             0         0         0   \n",
      "4         0         0         0    ...             0         0         0   \n",
      "\n",
      "   State_VT  State_WA  State_WI  State_WV  State_WY  State_YT  intercept  \n",
      "0         0         0         0         0         0         0          1  \n",
      "1         0         0         0         0         0         0          1  \n",
      "2         0         0         0         0         0         0          1  \n",
      "3         0         0         0         0         0         0          1  \n",
      "4         0         0         0         0         0         0          1  \n",
      "\n",
      "[5 rows x 141 columns]\n"
     ]
    }
   ],
   "source": [
    "x = ['State']\n",
    "y = ['CLICKS']\n",
    "LogisticRegression(x,y)"
   ]
  },
  {
   "cell_type": "code",
   "execution_count": 29,
   "metadata": {
    "collapsed": false
   },
   "outputs": [],
   "source": []
  },
  {
   "cell_type": "code",
   "execution_count": null,
   "metadata": {
    "collapsed": true
   },
   "outputs": [],
   "source": []
  }
 ],
 "metadata": {
  "kernelspec": {
   "display_name": "Python 2",
   "language": "python",
   "name": "python2"
  },
  "language_info": {
   "codemirror_mode": {
    "name": "ipython",
    "version": 2
   },
   "file_extension": ".py",
   "mimetype": "text/x-python",
   "name": "python",
   "nbconvert_exporter": "python",
   "pygments_lexer": "ipython2",
   "version": "2.7.10"
  }
 },
 "nbformat": 4,
 "nbformat_minor": 0
}
