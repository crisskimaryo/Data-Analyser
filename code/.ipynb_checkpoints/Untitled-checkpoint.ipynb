{
 "cells": [
  {
   "cell_type": "code",
   "execution_count": 1,
   "metadata": {
    "collapsed": true
   },
   "outputs": [],
   "source": [
    "import pandas as pd"
   ]
  },
  {
   "cell_type": "code",
   "execution_count": 13,
   "metadata": {
    "collapsed": false
   },
   "outputs": [],
   "source": [
    "df = pd.read_csv(\"/Users/vessilli/Desktop/andy/test/data/sunil_2M.csv\")"
   ]
  },
  {
   "cell_type": "code",
   "execution_count": 14,
   "metadata": {
    "collapsed": false
   },
   "outputs": [
    {
     "data": {
      "text/html": [
       "<div style=\"max-height:1000px;max-width:1500px;overflow:auto;\">\n",
       "<table border=\"1\" class=\"dataframe\">\n",
       "  <thead>\n",
       "    <tr style=\"text-align: right;\">\n",
       "      <th></th>\n",
       "      <th>﻿ACTION</th>\n",
       "      <th>COST</th>\n",
       "      <th>CLICKS</th>\n",
       "      <th>Age</th>\n",
       "      <th>BiddingPrice</th>\n",
       "      <th>Children</th>\n",
       "      <th>Toddler</th>\n",
       "      <th>Kids</th>\n",
       "      <th>Teen</th>\n",
       "      <th>Income</th>\n",
       "      <th>...</th>\n",
       "      <th>Home</th>\n",
       "      <th>Phone</th>\n",
       "      <th>Email</th>\n",
       "      <th>SIN</th>\n",
       "      <th>Transaction_dummy</th>\n",
       "      <th>hour</th>\n",
       "      <th>DayofWeek</th>\n",
       "      <th>DMA</th>\n",
       "      <th>Domain</th>\n",
       "      <th>Zone</th>\n",
       "    </tr>\n",
       "  </thead>\n",
       "  <tbody>\n",
       "    <tr>\n",
       "      <th>0</th>\n",
       "      <td></td>\n",
       "      <td>0.000022</td>\n",
       "      <td>0</td>\n",
       "      <td>47</td>\n",
       "      <td>0.02</td>\n",
       "      <td>2</td>\n",
       "      <td>1</td>\n",
       "      <td>0</td>\n",
       "      <td>1</td>\n",
       "      <td>81785</td>\n",
       "      <td>...</td>\n",
       "      <td>XXX</td>\n",
       "      <td>XXX</td>\n",
       "      <td>XXX</td>\n",
       "      <td>XXX</td>\n",
       "      <td>678</td>\n",
       "      <td>0</td>\n",
       "      <td>7</td>\n",
       "      <td>0</td>\n",
       "      <td>18260302</td>\n",
       "      <td>1</td>\n",
       "    </tr>\n",
       "    <tr>\n",
       "      <th>1</th>\n",
       "      <td></td>\n",
       "      <td>0.000836</td>\n",
       "      <td>0</td>\n",
       "      <td>69</td>\n",
       "      <td>0.71</td>\n",
       "      <td>4</td>\n",
       "      <td>2</td>\n",
       "      <td>2</td>\n",
       "      <td>0</td>\n",
       "      <td>14703</td>\n",
       "      <td>...</td>\n",
       "      <td>XXX</td>\n",
       "      <td>XXX</td>\n",
       "      <td>XXX</td>\n",
       "      <td>XXX</td>\n",
       "      <td>1</td>\n",
       "      <td>13</td>\n",
       "      <td>7</td>\n",
       "      <td>0</td>\n",
       "      <td>19083127</td>\n",
       "      <td>1</td>\n",
       "    </tr>\n",
       "    <tr>\n",
       "      <th>2</th>\n",
       "      <td></td>\n",
       "      <td>0.000393</td>\n",
       "      <td>0</td>\n",
       "      <td>32</td>\n",
       "      <td>0.38</td>\n",
       "      <td>3</td>\n",
       "      <td>2</td>\n",
       "      <td>0</td>\n",
       "      <td>1</td>\n",
       "      <td>30614</td>\n",
       "      <td>...</td>\n",
       "      <td>XXX</td>\n",
       "      <td>XXX</td>\n",
       "      <td>XXX</td>\n",
       "      <td>XXX</td>\n",
       "      <td>6</td>\n",
       "      <td>11</td>\n",
       "      <td>7</td>\n",
       "      <td>0</td>\n",
       "      <td>1552418</td>\n",
       "      <td>6</td>\n",
       "    </tr>\n",
       "    <tr>\n",
       "      <th>3</th>\n",
       "      <td></td>\n",
       "      <td>0.001349</td>\n",
       "      <td>0</td>\n",
       "      <td>38</td>\n",
       "      <td>1.72</td>\n",
       "      <td>2</td>\n",
       "      <td>0</td>\n",
       "      <td>1</td>\n",
       "      <td>1</td>\n",
       "      <td>42652</td>\n",
       "      <td>...</td>\n",
       "      <td>XXX</td>\n",
       "      <td>XXX</td>\n",
       "      <td>XXX</td>\n",
       "      <td>XXX</td>\n",
       "      <td>8</td>\n",
       "      <td>11</td>\n",
       "      <td>7</td>\n",
       "      <td>752</td>\n",
       "      <td>162804</td>\n",
       "      <td>1</td>\n",
       "    </tr>\n",
       "    <tr>\n",
       "      <th>4</th>\n",
       "      <td></td>\n",
       "      <td>0.001815</td>\n",
       "      <td>0</td>\n",
       "      <td>54</td>\n",
       "      <td>1.60</td>\n",
       "      <td>5</td>\n",
       "      <td>2</td>\n",
       "      <td>2</td>\n",
       "      <td>1</td>\n",
       "      <td>2395</td>\n",
       "      <td>...</td>\n",
       "      <td>XXX</td>\n",
       "      <td>XXX</td>\n",
       "      <td>XXX</td>\n",
       "      <td>XXX</td>\n",
       "      <td>4</td>\n",
       "      <td>0</td>\n",
       "      <td>7</td>\n",
       "      <td>0</td>\n",
       "      <td>20139</td>\n",
       "      <td>6</td>\n",
       "    </tr>\n",
       "  </tbody>\n",
       "</table>\n",
       "<p>5 rows × 51 columns</p>\n",
       "</div>"
      ],
      "text/plain": [
       "  ���ACTION      COST  CLICKS  Age  BiddingPrice  Children  Toddler  Kids  Teen  \\\n",
       "0          0.000022       0   47          0.02         2        1     0     1   \n",
       "1          0.000836       0   69          0.71         4        2     2     0   \n",
       "2          0.000393       0   32          0.38         3        2     0     1   \n",
       "3          0.001349       0   38          1.72         2        0     1     1   \n",
       "4          0.001815       0   54          1.60         5        2     2     1   \n",
       "\n",
       "   Income  ...   Home Phone Email  SIN  Transaction_dummy  hour  DayofWeek  \\\n",
       "0   81785  ...    XXX   XXX   XXX  XXX                678     0          7   \n",
       "1   14703  ...    XXX   XXX   XXX  XXX                  1    13          7   \n",
       "2   30614  ...    XXX   XXX   XXX  XXX                  6    11          7   \n",
       "3   42652  ...    XXX   XXX   XXX  XXX                  8    11          7   \n",
       "4    2395  ...    XXX   XXX   XXX  XXX                  4     0          7   \n",
       "\n",
       "   DMA    Domain  Zone  \n",
       "0    0  18260302     1  \n",
       "1    0  19083127     1  \n",
       "2    0   1552418     6  \n",
       "3  752    162804     1  \n",
       "4    0     20139     6  \n",
       "\n",
       "[5 rows x 51 columns]"
      ]
     },
     "execution_count": 14,
     "metadata": {},
     "output_type": "execute_result"
    }
   ],
   "source": [
    "df.head()"
   ]
  },
  {
   "cell_type": "code",
   "execution_count": 15,
   "metadata": {
    "collapsed": true
   },
   "outputs": [],
   "source": [
    "def stochasticGradienBoosting(xNames,yNames,dff):\n",
    "    names = yNames+xNames\n",
    "    dff = df[names]\n",
    "    for i in names:\n",
    "        if dff[i].dtype == \"object\":\n",
    "            dff[i] = pd.DataFrame(data={i: np.unique(df[i],return_inverse=True)[1]})\n",
    "    print dff.head()\n",
    "    "
   ]
  },
  {
   "cell_type": "code",
   "execution_count": 16,
   "metadata": {
    "collapsed": true
   },
   "outputs": [],
   "source": [
    "xNames = ['COST','Kids']\n",
    "yNames = ['CLICKS']"
   ]
  },
  {
   "cell_type": "code",
   "execution_count": 17,
   "metadata": {
    "collapsed": false
   },
   "outputs": [
    {
     "ename": "NameError",
     "evalue": "global name 'self' is not defined",
     "output_type": "error",
     "traceback": [
      "\u001b[0;31m---------------------------------------------------------------------------\u001b[0m",
      "\u001b[0;31mNameError\u001b[0m                                 Traceback (most recent call last)",
      "\u001b[0;32m<ipython-input-17-1ab9e463270c>\u001b[0m in \u001b[0;36m<module>\u001b[0;34m()\u001b[0m\n\u001b[0;32m----> 1\u001b[0;31m \u001b[0mstochasticGradienBoosting\u001b[0m\u001b[0;34m(\u001b[0m\u001b[0mxNames\u001b[0m\u001b[0;34m,\u001b[0m\u001b[0myNames\u001b[0m\u001b[0;34m,\u001b[0m\u001b[0mdf\u001b[0m\u001b[0;34m)\u001b[0m\u001b[0;34m\u001b[0m\u001b[0m\n\u001b[0m",
      "\u001b[0;32m<ipython-input-15-b452ab38d165>\u001b[0m in \u001b[0;36mstochasticGradienBoosting\u001b[0;34m(xNames, yNames, dff)\u001b[0m\n\u001b[1;32m      1\u001b[0m \u001b[0;32mdef\u001b[0m \u001b[0mstochasticGradienBoosting\u001b[0m\u001b[0;34m(\u001b[0m\u001b[0mxNames\u001b[0m\u001b[0;34m,\u001b[0m\u001b[0myNames\u001b[0m\u001b[0;34m,\u001b[0m\u001b[0mdff\u001b[0m\u001b[0;34m)\u001b[0m\u001b[0;34m:\u001b[0m\u001b[0;34m\u001b[0m\u001b[0m\n\u001b[1;32m      2\u001b[0m     \u001b[0mnames\u001b[0m \u001b[0;34m=\u001b[0m \u001b[0myNames\u001b[0m\u001b[0;34m+\u001b[0m\u001b[0mxNames\u001b[0m\u001b[0;34m\u001b[0m\u001b[0m\n\u001b[0;32m----> 3\u001b[0;31m     \u001b[0mdff\u001b[0m \u001b[0;34m=\u001b[0m \u001b[0mself\u001b[0m\u001b[0;34m.\u001b[0m\u001b[0mdata\u001b[0m\u001b[0;34m[\u001b[0m\u001b[0mnames\u001b[0m\u001b[0;34m]\u001b[0m\u001b[0;34m\u001b[0m\u001b[0m\n\u001b[0m\u001b[1;32m      4\u001b[0m     \u001b[0;32mfor\u001b[0m \u001b[0mi\u001b[0m \u001b[0;32min\u001b[0m \u001b[0mnames\u001b[0m\u001b[0;34m:\u001b[0m\u001b[0;34m\u001b[0m\u001b[0m\n\u001b[1;32m      5\u001b[0m         \u001b[0;32mif\u001b[0m \u001b[0mdff\u001b[0m\u001b[0;34m[\u001b[0m\u001b[0mi\u001b[0m\u001b[0;34m]\u001b[0m\u001b[0;34m.\u001b[0m\u001b[0mdtype\u001b[0m \u001b[0;34m==\u001b[0m \u001b[0;34m\"object\"\u001b[0m\u001b[0;34m:\u001b[0m\u001b[0;34m\u001b[0m\u001b[0m\n",
      "\u001b[0;31mNameError\u001b[0m: global name 'self' is not defined"
     ]
    }
   ],
   "source": [
    "stochasticGradienBoosting(xNames,yNames,df)"
   ]
  },
  {
   "cell_type": "code",
   "execution_count": null,
   "metadata": {
    "collapsed": true
   },
   "outputs": [],
   "source": []
  }
 ],
 "metadata": {
  "kernelspec": {
   "display_name": "Python 2",
   "language": "python",
   "name": "python2"
  },
  "language_info": {
   "codemirror_mode": {
    "name": "ipython",
    "version": 2
   },
   "file_extension": ".py",
   "mimetype": "text/x-python",
   "name": "python",
   "nbconvert_exporter": "python",
   "pygments_lexer": "ipython2",
   "version": "2.7.10"
  }
 },
 "nbformat": 4,
 "nbformat_minor": 0
}
