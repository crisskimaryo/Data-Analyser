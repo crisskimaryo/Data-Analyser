{
 "cells": [
  {
   "cell_type": "code",
   "execution_count": 1,
   "metadata": {
    "collapsed": true
   },
   "outputs": [],
   "source": [
    "import pandas as pd\n",
    "import statsmodels.api as sm\n",
    "import sklearn.linear_model\n",
    "from sklearn.feature_selection import chi2\n",
    "import numpy as np"
   ]
  },
  {
   "cell_type": "code",
   "execution_count": 2,
   "metadata": {
    "collapsed": false
   },
   "outputs": [
    {
     "name": "stdout",
     "output_type": "stream",
     "text": [
      "Index([u'admit', u'gre', u'gpa', u'rank'], dtype='object')\n"
     ]
    }
   ],
   "source": [
    "df = pd.read_csv(\"/Users/vessilli/Desktop/andy/test/binary.csv\")\n",
    "print df.columns"
   ]
  },
  {
   "cell_type": "code",
   "execution_count": null,
   "metadata": {
    "collapsed": false
   },
   "outputs": [],
   "source": []
  },
  {
   "cell_type": "code",
   "execution_count": 76,
   "metadata": {
    "collapsed": false
   },
   "outputs": [],
   "source": [
    "import scipy as sc\n",
    "from scipy import linalg\n",
    "def calculateTtest(X,Y,model):\n",
    "    n, k = X.shape\n",
    "    yHat = np.matrix(model.predict(X)).T\n",
    "    #print yHat\n",
    "    x = np.hstack((np.ones((n,1)),np.matrix(X)))\n",
    "    y = np.matrix(Y).T\n",
    "    degf = float(n-k-1)\n",
    "    sse = np.sum(np.square(yHat - y),axis=0)\n",
    "    sampleVariance = sse/degf\n",
    "    sampleVarianceX = x.T*x\n",
    "    print linalg.inv(sampleVarianceX)\n",
    "    sampleVariance[0,0]*sampleVarianceX.I\n",
    "    covarianceMatrix = sc.linalg.sqrtm(sampleVariance[0,0]*sampleVarianceX.I)\n",
    "    se = covarianceMatrix.diagonal()[1:]\n",
    "    betasTStat = np.zeros(len(se))\n",
    "    for i in xrange(len(self.se)):\n",
    "        betasTStat[i] = model.coef_[0,i]/se[i]\n",
    "    betasPValue = 1 - t.cdf(abs(betasTStat),degf)\n",
    "    print betasPValue\n",
    "\n",
    "def LogisticRegression(df,x,y):\n",
    "    lst = list(set(y + x))\n",
    "    ddf = df[lst]\n",
    "    for i in x:\n",
    "        if ddf[i].dtype=='object':\n",
    "            fillvalue = ddf[i].value_counts()\n",
    "            fillvalue = fillvalue.index[0]\n",
    "        else:\n",
    "            fillvalue = np.mean(ddf[i])\n",
    "        ddf[i] = ddf[i].fillna(fillvalue)\n",
    "    for i in y:\n",
    "        fillvalue = ddf[i].value_counts()\n",
    "        fillvalue = fillvalue.index[0]\n",
    "        ddf[i] = ddf[i].fillna(fillvalue)\n",
    "    categorical = []\n",
    "    nonCategorical = []\n",
    "    for i in x:\n",
    "        if ddf[i].dtype==\"object\":\n",
    "            categorical.append(i)\n",
    "            print i\n",
    "        else:\n",
    "            print i\n",
    "            nonCategorical.append(i)\n",
    "    data = ddf[y+nonCategorical]\n",
    "    for j in categorical:\n",
    "        #dummy_b = self.get_dummies(ddf,j)\n",
    "        dummy_b = pd.get_dummies(ddf[j],prefix=j)\n",
    "        #print dummy_b\n",
    "        dummy_columns = dummy_b.columns\n",
    "        cols = list(dummy_columns[1:len(dummy_columns)])\n",
    "        data[cols] = dummy_b[dummy_columns[1:len(dummy_columns)]]\n",
    "    columns = data.columns\n",
    "    y = columns[0]\n",
    "    x = columns[1:len(columns)]\n",
    "    print data.head()\n",
    "    X = data[x].as_matrix()\n",
    "    Y = data[y].as_matrix()\n",
    "    model = sklearn.linear_model.LogisticRegression(fit_intercept=True)\n",
    "    model.fit(X,Y)\n",
    "    print (model.coef_[0])\n",
    "    \n",
    "    \n",
    "    \n",
    "    data['intercept'] = 1.0\n",
    "    columns = data.columns\n",
    "    y = columns[0]\n",
    "    x = columns[1:len(columns)]\n",
    "    print data.head()\n",
    "    X = data[x].as_matrix()\n",
    "    Y = data[y].as_matrix()\n",
    "    model = sklearn.linear_model.LogisticRegression()\n",
    "    logit = sm.Logit(data[y], data[x])\n",
    "    result = logit.fit()\n",
    "    scores,pvalues = chi2(X,Y)\n",
    "    #print scores,pvalues\n",
    "    print result.summary()\n",
    "    \n",
    "    #print X.shape,Y.shape\n",
    "    model.fit(X,Y,fit_intercept=False)\n",
    "    print model.coef_\n",
    "    \n",
    "    z_scores_np = (X - X.mean()) / X.std()\n",
    "\n",
    "    calculateTtest(X,Y,model)\n"
   ]
  },
  {
   "cell_type": "code",
   "execution_count": 77,
   "metadata": {
    "collapsed": false
   },
   "outputs": [
    {
     "name": "stdout",
     "output_type": "stream",
     "text": [
      "rank\n",
      "gre\n",
      "gpa\n",
      "   admit  gre   gpa  rank_2  rank_3  rank_4  rank_a\n",
      "0      0  380  3.61       0       0       0       1\n",
      "1      1  660  3.67       0       0       0       1\n",
      "2      1  800  4.00       0       0       0       0\n",
      "3      1  640  3.19       0       0       1       0\n",
      "4      0  520  2.93       0       0       1       0\n",
      "[ 0.00186603  0.2331324  -0.60532372 -1.19707966 -1.37766904  0.01654403]\n",
      "   admit  gre   gpa  rank_2  rank_3  rank_4  rank_a  intercept\n",
      "0      0  380  3.61       0       0       0       1          1\n",
      "1      1  660  3.67       0       0       0       1          1\n",
      "2      1  800  4.00       0       0       0       0          1\n",
      "3      1  640  3.19       0       0       1       0          1\n",
      "4      0  520  2.93       0       0       1       0          1\n",
      "Optimization terminated successfully.\n",
      "         Current function value: 0.572261\n",
      "         Iterations 6\n",
      "                           Logit Regression Results                           \n",
      "==============================================================================\n",
      "Dep. Variable:                  admit   No. Observations:                  400\n",
      "Model:                          Logit   Df Residuals:                      393\n",
      "Method:                           MLE   Df Model:                            6\n",
      "Date:                Sat, 26 Sep 2015   Pseudo R-squ.:                 0.08434\n",
      "Time:                        03:46:58   Log-Likelihood:                -228.90\n",
      "converged:                       True   LL-Null:                       -249.99\n",
      "                                        LLR p-value:                 1.704e-07\n",
      "==============================================================================\n",
      "                 coef    std err          z      P>|z|      [95.0% Conf. Int.]\n",
      "------------------------------------------------------------------------------\n",
      "gre            0.0023      0.001      2.115      0.034         0.000     0.004\n",
      "gpa            0.7922      0.332      2.383      0.017         0.141     1.444\n",
      "rank_2        -0.6758      0.317     -2.135      0.033        -1.296    -0.055\n",
      "rank_3        -1.3655      0.347     -3.931      0.000        -2.046    -0.685\n",
      "rank_4        -1.5513      0.418     -3.712      0.000        -2.370    -0.732\n",
      "rank_a        -0.1072      1.466     -0.073      0.942        -2.981     2.766\n",
      "intercept     -3.9814      1.142     -3.486      0.000        -6.220    -1.743\n",
      "==============================================================================\n",
      "[[ 0.00196972  0.32660649 -0.62208351 -1.19431724 -1.38444153  0.05241384\n",
      "  -1.12292141]]\n"
     ]
    },
    {
     "ename": "LinAlgError",
     "evalue": "singular matrix",
     "output_type": "error",
     "traceback": [
      "\u001b[0;31m---------------------------------------------------------------------------\u001b[0m",
      "\u001b[0;31mLinAlgError\u001b[0m                               Traceback (most recent call last)",
      "\u001b[0;32m<ipython-input-77-f9f2d4d32189>\u001b[0m in \u001b[0;36m<module>\u001b[0;34m()\u001b[0m\n\u001b[1;32m      1\u001b[0m \u001b[0mx\u001b[0m \u001b[0;34m=\u001b[0m \u001b[0;34m[\u001b[0m\u001b[0;34m'rank'\u001b[0m\u001b[0;34m,\u001b[0m\u001b[0;34m'gre'\u001b[0m\u001b[0;34m,\u001b[0m\u001b[0;34m'gpa'\u001b[0m\u001b[0;34m,\u001b[0m\u001b[0;34m]\u001b[0m\u001b[0;34m\u001b[0m\u001b[0m\n\u001b[1;32m      2\u001b[0m \u001b[0my\u001b[0m \u001b[0;34m=\u001b[0m \u001b[0;34m[\u001b[0m\u001b[0;34m'admit'\u001b[0m\u001b[0;34m]\u001b[0m\u001b[0;34m\u001b[0m\u001b[0m\n\u001b[0;32m----> 3\u001b[0;31m \u001b[0mLogisticRegression\u001b[0m\u001b[0;34m(\u001b[0m\u001b[0mdf\u001b[0m\u001b[0;34m,\u001b[0m\u001b[0mx\u001b[0m\u001b[0;34m,\u001b[0m\u001b[0my\u001b[0m\u001b[0;34m)\u001b[0m\u001b[0;34m\u001b[0m\u001b[0m\n\u001b[0m",
      "\u001b[0;32m<ipython-input-76-fbb35459164c>\u001b[0m in \u001b[0;36mLogisticRegression\u001b[0;34m(df, x, y)\u001b[0m\n\u001b[1;32m     77\u001b[0m     \u001b[0mz_scores_np\u001b[0m \u001b[0;34m=\u001b[0m \u001b[0;34m(\u001b[0m\u001b[0mX\u001b[0m \u001b[0;34m-\u001b[0m \u001b[0mX\u001b[0m\u001b[0;34m.\u001b[0m\u001b[0mmean\u001b[0m\u001b[0;34m(\u001b[0m\u001b[0;34m)\u001b[0m\u001b[0;34m)\u001b[0m \u001b[0;34m/\u001b[0m \u001b[0mX\u001b[0m\u001b[0;34m.\u001b[0m\u001b[0mstd\u001b[0m\u001b[0;34m(\u001b[0m\u001b[0;34m)\u001b[0m\u001b[0;34m\u001b[0m\u001b[0m\n\u001b[1;32m     78\u001b[0m \u001b[0;34m\u001b[0m\u001b[0m\n\u001b[0;32m---> 79\u001b[0;31m     \u001b[0mcalculateTtest\u001b[0m\u001b[0;34m(\u001b[0m\u001b[0mX\u001b[0m\u001b[0;34m,\u001b[0m\u001b[0mY\u001b[0m\u001b[0;34m,\u001b[0m\u001b[0mmodel\u001b[0m\u001b[0;34m)\u001b[0m\u001b[0;34m\u001b[0m\u001b[0m\n\u001b[0m",
      "\u001b[0;32m<ipython-input-76-fbb35459164c>\u001b[0m in \u001b[0;36mcalculateTtest\u001b[0;34m(X, Y, model)\u001b[0m\n\u001b[1;32m     11\u001b[0m     \u001b[0msampleVariance\u001b[0m \u001b[0;34m=\u001b[0m \u001b[0msse\u001b[0m\u001b[0;34m/\u001b[0m\u001b[0mdegf\u001b[0m\u001b[0;34m\u001b[0m\u001b[0m\n\u001b[1;32m     12\u001b[0m     \u001b[0msampleVarianceX\u001b[0m \u001b[0;34m=\u001b[0m \u001b[0mx\u001b[0m\u001b[0;34m.\u001b[0m\u001b[0mT\u001b[0m\u001b[0;34m*\u001b[0m\u001b[0mx\u001b[0m\u001b[0;34m\u001b[0m\u001b[0m\n\u001b[0;32m---> 13\u001b[0;31m     \u001b[0;32mprint\u001b[0m \u001b[0mlinalg\u001b[0m\u001b[0;34m.\u001b[0m\u001b[0minv\u001b[0m\u001b[0;34m(\u001b[0m\u001b[0msampleVarianceX\u001b[0m\u001b[0;34m)\u001b[0m\u001b[0;34m\u001b[0m\u001b[0m\n\u001b[0m\u001b[1;32m     14\u001b[0m \u001b[0;34m\u001b[0m\u001b[0m\n\u001b[1;32m     15\u001b[0m \u001b[0;34m\u001b[0m\u001b[0m\n",
      "\u001b[0;32m/usr/local/lib/python2.7/site-packages/scipy/linalg/basic.pyc\u001b[0m in \u001b[0;36minv\u001b[0;34m(a, overwrite_a, check_finite)\u001b[0m\n\u001b[1;32m    383\u001b[0m         \u001b[0minv_a\u001b[0m\u001b[0;34m,\u001b[0m \u001b[0minfo\u001b[0m \u001b[0;34m=\u001b[0m \u001b[0mgetri\u001b[0m\u001b[0;34m(\u001b[0m\u001b[0mlu\u001b[0m\u001b[0;34m,\u001b[0m \u001b[0mpiv\u001b[0m\u001b[0;34m,\u001b[0m \u001b[0mlwork\u001b[0m\u001b[0;34m=\u001b[0m\u001b[0mlwork\u001b[0m\u001b[0;34m,\u001b[0m \u001b[0moverwrite_lu\u001b[0m\u001b[0;34m=\u001b[0m\u001b[0;36m1\u001b[0m\u001b[0;34m)\u001b[0m\u001b[0;34m\u001b[0m\u001b[0m\n\u001b[1;32m    384\u001b[0m     \u001b[0;32mif\u001b[0m \u001b[0minfo\u001b[0m \u001b[0;34m>\u001b[0m \u001b[0;36m0\u001b[0m\u001b[0;34m:\u001b[0m\u001b[0;34m\u001b[0m\u001b[0m\n\u001b[0;32m--> 385\u001b[0;31m         \u001b[0;32mraise\u001b[0m \u001b[0mLinAlgError\u001b[0m\u001b[0;34m(\u001b[0m\u001b[0;34m\"singular matrix\"\u001b[0m\u001b[0;34m)\u001b[0m\u001b[0;34m\u001b[0m\u001b[0m\n\u001b[0m\u001b[1;32m    386\u001b[0m     \u001b[0;32mif\u001b[0m \u001b[0minfo\u001b[0m \u001b[0;34m<\u001b[0m \u001b[0;36m0\u001b[0m\u001b[0;34m:\u001b[0m\u001b[0;34m\u001b[0m\u001b[0m\n\u001b[1;32m    387\u001b[0m         raise ValueError('illegal value in %d-th argument of internal '\n",
      "\u001b[0;31mLinAlgError\u001b[0m: singular matrix"
     ]
    }
   ],
   "source": [
    "x = ['rank','gre','gpa',]\n",
    "y = ['admit']\n",
    "LogisticRegression(df,x,y)"
   ]
  },
  {
   "cell_type": "code",
   "execution_count": null,
   "metadata": {
    "collapsed": true
   },
   "outputs": [],
   "source": []
  },
  {
   "cell_type": "code",
   "execution_count": null,
   "metadata": {
    "collapsed": true
   },
   "outputs": [],
   "source": []
  }
 ],
 "metadata": {
  "kernelspec": {
   "display_name": "Python 2",
   "language": "python",
   "name": "python2"
  },
  "language_info": {
   "codemirror_mode": {
    "name": "ipython",
    "version": 2
   },
   "file_extension": ".py",
   "mimetype": "text/x-python",
   "name": "python",
   "nbconvert_exporter": "python",
   "pygments_lexer": "ipython2",
   "version": "2.7.10"
  }
 },
 "nbformat": 4,
 "nbformat_minor": 0
}
